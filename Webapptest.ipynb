{
 "cells": [
  {
   "cell_type": "code",
   "execution_count": 1,
   "id": "426a19a0",
   "metadata": {},
   "outputs": [
    {
     "data": {
      "text/plain": [
       "'Sleep'"
      ]
     },
     "execution_count": 1,
     "metadata": {},
     "output_type": "execute_result"
    }
   ],
   "source": [
    "import pywebio\n",
    "from pywebio.input import *\n",
    "from pywebio.output import *\n",
    "\n",
    "input(\"What's your name?\")\n",
    "select(\"Select food\", ['Orange','Apple'])\n",
    "checkbox(\"Are you okay?\",  options=[\"I'm Okay.\"])\n",
    "radio(\"What do you like to do?\", options=['Eat','Sleep','Study'])"
   ]
  },
  {
   "cell_type": "code",
   "execution_count": null,
   "id": "15570464",
   "metadata": {},
   "outputs": [],
   "source": []
  }
 ],
 "metadata": {
  "kernelspec": {
   "display_name": "Python 3 (ipykernel)",
   "language": "python",
   "name": "python3"
  },
  "language_info": {
   "codemirror_mode": {
    "name": "ipython",
    "version": 3
   },
   "file_extension": ".py",
   "mimetype": "text/x-python",
   "name": "python",
   "nbconvert_exporter": "python",
   "pygments_lexer": "ipython3",
   "version": "3.9.7"
  }
 },
 "nbformat": 4,
 "nbformat_minor": 5
}
